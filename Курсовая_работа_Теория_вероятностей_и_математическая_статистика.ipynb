{
  "nbformat": 4,
  "nbformat_minor": 0,
  "metadata": {
    "colab": {
      "provenance": []
    },
    "kernelspec": {
      "name": "python3",
      "display_name": "Python 3"
    },
    "language_info": {
      "name": "python"
    }
  },
  "cells": [
    {
      "cell_type": "markdown",
      "source": [
        "Провести дисперсионный анализ для определения того, есть ли различия среднего роста среди взрослых футболистов, хоккеистов и штангистов. Даны значения роста в трех группах случайно выбранных спортсменов:\n",
        "футболисты: 173, 175, 180, 178, 177, 185, 183, 182;\n",
        "хоккеисты: 177, 179, 180, 188, 177, 172, 171, 184, 180;\n",
        "штангисты: 172, 173, 169, 177, 166, 180, 178, 177, 172, 166, 170. alpha = 0.05."
      ],
      "metadata": {
        "id": "mCa18HaFDLs4"
      }
    },
    {
      "cell_type": "code",
      "source": [
        "import numpy as np"
      ],
      "metadata": {
        "id": "ijAwoWqFyoEE"
      },
      "execution_count": 2,
      "outputs": []
    },
    {
      "cell_type": "code",
      "source": [
        "k = 3 # всего рассматриваются три группы спортсменов"
      ],
      "metadata": {
        "id": "0lecFuTo35l7"
      },
      "execution_count": 3,
      "outputs": []
    },
    {
      "cell_type": "markdown",
      "source": [
        "Проведем однофакторный дисперсионный анализ. Найдем средние значения роста в каждой группе спортсменов:"
      ],
      "metadata": {
        "id": "-apxFvUK_-qO"
      }
    },
    {
      "cell_type": "code",
      "source": [
        "# найдем среднее значение роста случайно выбранных футболистов\n",
        "n1 = 8 # количество значений роста футболистов\n",
        "y1 = np.array([173, 175, 180, 178, 177, 185, 183, 182], dtype = np.float64)\n",
        "y1_mean = np.mean(y1)\n",
        "print(y1_mean)"
      ],
      "metadata": {
        "id": "ukG4QYwHzK7O",
        "colab": {
          "base_uri": "https://localhost:8080/"
        },
        "outputId": "471167d2-507b-422f-d4c4-edbd611f170e"
      },
      "execution_count": 4,
      "outputs": [
        {
          "output_type": "stream",
          "name": "stdout",
          "text": [
            "179.125\n"
          ]
        }
      ]
    },
    {
      "cell_type": "code",
      "source": [
        "# найдем среднее значение роста случайно выбранных хокеистов\n",
        "n2 = 9 # количество значений роста хокеистов\n",
        "y2 = np.array([177, 179, 180, 188, 177, 172, 171, 184, 180], dtype = np.float64)\n",
        "y2_mean = np.mean(y2)\n",
        "print(y2_mean)"
      ],
      "metadata": {
        "id": "qsg_uQMs6Ujt",
        "colab": {
          "base_uri": "https://localhost:8080/"
        },
        "outputId": "955624c6-22a8-4ad9-de19-6ffef78a5cef"
      },
      "execution_count": 5,
      "outputs": [
        {
          "output_type": "stream",
          "name": "stdout",
          "text": [
            "178.66666666666666\n"
          ]
        }
      ]
    },
    {
      "cell_type": "code",
      "source": [
        "# найдем среднее значение роста случайно выбранных штангистов\n",
        "n3 = 11 # количество значений роста штангистов\n",
        "y3 = np.array([172, 173, 169, 177, 166, 180, 178, 177, 172, 166, 170], dtype = np.float64)\n",
        "y3_mean = np.mean(y3)\n",
        "print(y3_mean)"
      ],
      "metadata": {
        "id": "1MXgBuoJ6aAZ",
        "colab": {
          "base_uri": "https://localhost:8080/"
        },
        "outputId": "ec563fa7-0c27-4aad-a96a-a7761049362e"
      },
      "execution_count": 6,
      "outputs": [
        {
          "output_type": "stream",
          "name": "stdout",
          "text": [
            "172.72727272727272\n"
          ]
        }
      ]
    },
    {
      "cell_type": "code",
      "source": [
        "# найдем общее количество значений роста среди футболистов, хокеистов и штангистов\n",
        "n = n1 + n2 + n3\n",
        "print(n)"
      ],
      "metadata": {
        "id": "Q9ZsNBCZ6aYh",
        "colab": {
          "base_uri": "https://localhost:8080/"
        },
        "outputId": "e86c6dfa-89c6-425f-a289-4f54544807f1"
      },
      "execution_count": 7,
      "outputs": [
        {
          "output_type": "stream",
          "name": "stdout",
          "text": [
            "28\n"
          ]
        }
      ]
    },
    {
      "cell_type": "markdown",
      "source": [
        "Из полученных результатов следует, что средние значения роста среди футболистов, хокеистов и штангистов разнятся. Необходимо убедиться, что этот факт статистически значим.\n",
        "Соберем все значения роста среди футболистов, хокеистов и штангистов в один массив:"
      ],
      "metadata": {
        "id": "wVoumpcpBK0V"
      }
    },
    {
      "cell_type": "code",
      "source": [
        "y_all = np.concatenate([y1, y2, y3])\n",
        "print(y_all)"
      ],
      "metadata": {
        "id": "agUG8YFvBJC2",
        "colab": {
          "base_uri": "https://localhost:8080/"
        },
        "outputId": "3df29016-6126-4cd5-a322-a25203d1deac"
      },
      "execution_count": 8,
      "outputs": [
        {
          "output_type": "stream",
          "name": "stdout",
          "text": [
            "[173. 175. 180. 178. 177. 185. 183. 182. 177. 179. 180. 188. 177. 172.\n",
            " 171. 184. 180. 172. 173. 169. 177. 166. 180. 178. 177. 172. 166. 170.]\n"
          ]
        }
      ]
    },
    {
      "cell_type": "markdown",
      "source": [
        "Найдем среднее значение роста по всему массиву y_all:"
      ],
      "metadata": {
        "id": "2eTacGBLDTum"
      }
    },
    {
      "cell_type": "code",
      "source": [
        "y_mean = np.mean(y_all)\n",
        "print(y_mean)"
      ],
      "metadata": {
        "id": "_IOdcSFzDURI",
        "colab": {
          "base_uri": "https://localhost:8080/"
        },
        "outputId": "15f123c9-d1d9-4cc2-e20d-4c466b0a16d4"
      },
      "execution_count": 9,
      "outputs": [
        {
          "output_type": "stream",
          "name": "stdout",
          "text": [
            "176.46428571428572\n"
          ]
        }
      ]
    },
    {
      "cell_type": "markdown",
      "source": [
        "Найдем сумму квадратов отклонений наблюдений из данных выборок от общего среднего по всем выборкам (S^2):"
      ],
      "metadata": {
        "id": "LbKePDLq7lXN"
      }
    },
    {
      "cell_type": "code",
      "source": [
        "s2 = np.sum((y_all - y_mean)**2)\n",
        "print(s2)"
      ],
      "metadata": {
        "colab": {
          "base_uri": "https://localhost:8080/"
        },
        "id": "u4HsVJhh86mq",
        "outputId": "da29819a-837d-446c-f319-8ce5eff69bef"
      },
      "execution_count": 10,
      "outputs": [
        {
          "output_type": "stream",
          "name": "stdout",
          "text": [
            "830.9642857142854\n"
          ]
        }
      ]
    },
    {
      "cell_type": "markdown",
      "source": [
        "Найдем сумму квадратов отклонений средних групповых значений наблюдений из каждой выборки от общего среднего по всем выборкам (S(st)^2):"
      ],
      "metadata": {
        "id": "N8ySibsq-aLs"
      }
    },
    {
      "cell_type": "code",
      "source": [
        "s2_st = ((y1_mean - y_mean)**2) * n1 + ((y2_mean - y_mean)**2) * n2 + ((y3_mean - y_mean)**2) * n3\n",
        "print(s2_st)"
      ],
      "metadata": {
        "colab": {
          "base_uri": "https://localhost:8080/"
        },
        "id": "GTjnpK_TAEeF",
        "outputId": "1647afa8-c471-4edd-991d-b685093c737d"
      },
      "execution_count": 12,
      "outputs": [
        {
          "output_type": "stream",
          "name": "stdout",
          "text": [
            "253.9074675324678\n"
          ]
        }
      ]
    },
    {
      "cell_type": "markdown",
      "source": [
        "Найдем остаточную сумму квадратов отклонений по формуле S(ost)^ = S^2 - S(st)^2:"
      ],
      "metadata": {
        "id": "GR76_WU3-qp1"
      }
    },
    {
      "cell_type": "code",
      "source": [
        "s2_ost = s2 - s2_st\n",
        "print(s2_ost)"
      ],
      "metadata": {
        "colab": {
          "base_uri": "https://localhost:8080/"
        },
        "id": "DRIbQG8tBV3Z",
        "outputId": "425e3da5-9736-4049-8361-cb5a6fc620f1"
      },
      "execution_count": 13,
      "outputs": [
        {
          "output_type": "stream",
          "name": "stdout",
          "text": [
            "577.0568181818177\n"
          ]
        }
      ]
    },
    {
      "cell_type": "markdown",
      "source": [
        "Найдем общую дисперсию:"
      ],
      "metadata": {
        "id": "wheRCA9_HPiC"
      }
    },
    {
      "cell_type": "code",
      "source": [
        "sigma_gen = s2 / (n-1)\n",
        "print(sigma_gen)"
      ],
      "metadata": {
        "colab": {
          "base_uri": "https://localhost:8080/"
        },
        "id": "zd3E6RIaHUCK",
        "outputId": "3e3827b5-4a97-4ef8-9ceb-33ad181d6127"
      },
      "execution_count": 14,
      "outputs": [
        {
          "output_type": "stream",
          "name": "stdout",
          "text": [
            "30.776455026455015\n"
          ]
        }
      ]
    },
    {
      "cell_type": "markdown",
      "source": [
        "Найдем факторную дисперсию:"
      ],
      "metadata": {
        "id": "Xu2jD2cLMOrz"
      }
    },
    {
      "cell_type": "code",
      "source": [
        "sigma2_f = s2_st / (k-1)\n",
        "print(sigma2_f)"
      ],
      "metadata": {
        "colab": {
          "base_uri": "https://localhost:8080/"
        },
        "id": "5f0NPqj5MbXh",
        "outputId": "10973b30-3dcf-48d7-ab6d-6828c2524a1e"
      },
      "execution_count": 15,
      "outputs": [
        {
          "output_type": "stream",
          "name": "stdout",
          "text": [
            "126.9537337662339\n"
          ]
        }
      ]
    },
    {
      "cell_type": "markdown",
      "source": [
        "Найдем остаточную дисперсию:"
      ],
      "metadata": {
        "id": "pHSL9RVyN6-p"
      }
    },
    {
      "cell_type": "code",
      "source": [
        "sigma2_ost = s2_ost / (n-k)\n",
        "print(sigma2_ost)"
      ],
      "metadata": {
        "colab": {
          "base_uri": "https://localhost:8080/"
        },
        "id": "L1Z_XdgZN_0m",
        "outputId": "f54cbfb0-142c-490f-e511-0739be14c738"
      },
      "execution_count": 17,
      "outputs": [
        {
          "output_type": "stream",
          "name": "stdout",
          "text": [
            "23.082272727272706\n"
          ]
        }
      ]
    },
    {
      "cell_type": "markdown",
      "source": [
        "Вычислим значение функции распределения вероятности F:"
      ],
      "metadata": {
        "id": "94psQYk_Rjvl"
      }
    },
    {
      "cell_type": "code",
      "source": [
        "F = sigma2_f / sigma2_ost\n",
        "print(F)"
      ],
      "metadata": {
        "colab": {
          "base_uri": "https://localhost:8080/"
        },
        "id": "8GvbeRgTRvML",
        "outputId": "d30fd8ce-f13b-4594-cc26-f9a84ecf0abf"
      },
      "execution_count": 18,
      "outputs": [
        {
          "output_type": "stream",
          "name": "stdout",
          "text": [
            "5.5000534508126036\n"
          ]
        }
      ]
    },
    {
      "cell_type": "markdown",
      "source": [
        "Поскольку анализ генеральной совокупности не проводился, то для оценки распределения вероятности будет использоваться таблица Стьюдента с количеством степеней свободы равным 27 (n-1).\n",
        "Исходя из предположения, что измерение роста среди футболистов, хокеистов и штангистов проводились с одинаковой точностью, будем считать, что генеральная совокупность данных распределена нормально, поэтому при выборе значения (F_st) в таблице распределения вероятностей Стьюдента будем использовать половину значения заданной оценки уровня значимости (т.е. alpha = 0,025 и p = 0,975)."
      ],
      "metadata": {
        "id": "DhWY29_iycAw"
      }
    },
    {
      "cell_type": "code",
      "source": [
        "F_st = 2.0518"
      ],
      "metadata": {
        "id": "-oZn-CD06QIB"
      },
      "execution_count": 20,
      "outputs": []
    },
    {
      "cell_type": "markdown",
      "source": [
        "Поскольку вычисленное значение фукции распределения вероятности (F = 5.5001) больше табличного значения распределения вероятностей Стьюдента (F_st = 2.0518) различия средних значений роста среди футболистов, хокеистов и штангистов статистически значимо."
      ],
      "metadata": {
        "id": "iLHcWBRC9aWe"
      }
    },
    {
      "cell_type": "markdown",
      "source": [
        "Вычислим эмпирическое корреляционное отношение:"
      ],
      "metadata": {
        "id": "urK6uO9g-4Jd"
      }
    },
    {
      "cell_type": "code",
      "source": [
        "eta2 = s2_st / s2\n",
        "print(eta2)"
      ],
      "metadata": {
        "colab": {
          "base_uri": "https://localhost:8080/"
        },
        "id": "s8QZFfpS_9ZA",
        "outputId": "98becdaf-6df1-4ed1-b3b7-1401114c2415"
      },
      "execution_count": 21,
      "outputs": [
        {
          "output_type": "stream",
          "name": "stdout",
          "text": [
            "0.30555761769498\n"
          ]
        }
      ]
    },
    {
      "cell_type": "markdown",
      "source": [
        "Поскольку вычисленное эмпирическое корреляционное отношение больше 0.3 - различие среднего роста среди футболистов, хокеистов и штангистов является статистически значимым."
      ],
      "metadata": {
        "id": "9FmyLMU7B6Rz"
      }
    }
  ]
}